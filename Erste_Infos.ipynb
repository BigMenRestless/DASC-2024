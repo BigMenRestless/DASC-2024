{
  "cells": [
    {
      "cell_type": "markdown",
      "metadata": {
        "id": "vfCtgy8ReWeF"
      },
      "source": [
        "# Erste Infos für die Veranstaltung\n",
        "\n",
        "## Termine und Ablauf\n",
        "\n",
        "+ 19.01.: Einstieg, Überblick, erste Schritte, Übungen\n",
        "+ 26.01.: Explorative Datenanalyse, Übungen\n",
        "+ 02.02.: Statistische Modelle - Machine Learning (ML) - Teil 1\n",
        "+ 07.02.: Übungen ML Teil 1\n",
        "+ 16.02.: ML- Teil 2, Übungen\n",
        "+ 23.02.: Visualisierung und Storytelling, Übungen + Vorbereitung Abschlussaufgabe\n",
        "\n",
        "\n",
        "\n",
        "## Wichtige Links\n",
        "\n",
        "* GitHub Repository für Vorlesungsmaterialien: https://github.com/geoclaudsch/DASC-2024\n",
        "* Nextcloud für Übungsaufgaben-Abgabe: https://nc.ufz.de/s/R2sMzgGkGKY9Jin\n",
        "* Email bei Fragen: e5000018@ba-sachsen.de\n",
        "* Telefon bei ganz dringenden Fragen: 0341-6025-1803\n",
        "* Zoom-Link: https://ufz-de.zoom.us/j/6950699109?pwd=Nk5vQkljZ2J6VFlFbXcvZGV6TXN2dz09"
      ]
    },
    {
      "cell_type": "code",
      "execution_count": null,
      "metadata": {
        "colab": {
          "base_uri": "https://localhost:8080/"
        },
        "id": "3n50yVF6eJYi",
        "outputId": "42f3529a-d397-4d0b-f226-d7bbfee93ecc"
      },
      "outputs": [
        {
          "name": "stdout",
          "output_type": "stream",
          "text": [
            "Hello world!\n"
          ]
        }
      ],
      "source": [
        "print('Hello world!')"
      ]
    }
  ],
  "metadata": {
    "colab": {
      "provenance": []
    },
    "kernelspec": {
      "display_name": "Python 3 (Spyder)",
      "language": "python3",
      "name": "python3"
    },
    "language_info": {
      "codemirror_mode": {
        "name": "ipython",
        "version": 3
      },
      "file_extension": ".py",
      "mimetype": "text/x-python",
      "name": "python",
      "nbconvert_exporter": "python",
      "pygments_lexer": "ipython3",
      "version": "3.11.4"
    }
  },
  "nbformat": 4,
  "nbformat_minor": 0
}
